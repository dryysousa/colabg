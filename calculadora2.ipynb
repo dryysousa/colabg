{
  "nbformat": 4,
  "nbformat_minor": 0,
  "metadata": {
    "colab": {
      "provenance": [],
      "authorship_tag": "ABX9TyP8mxtt55yY5ckki+gKDOP/",
      "include_colab_link": true
    },
    "kernelspec": {
      "name": "python3",
      "display_name": "Python 3"
    },
    "language_info": {
      "name": "python"
    }
  },
  "cells": [
    {
      "cell_type": "markdown",
      "metadata": {
        "id": "view-in-github",
        "colab_type": "text"
      },
      "source": [
        "<a href=\"https://colab.research.google.com/github/dryysousa/colabg/blob/main/calculadora2.ipynb\" target=\"_parent\"><img src=\"https://colab.research.google.com/assets/colab-badge.svg\" alt=\"Open In Colab\"/></a>"
      ]
    },
    {
      "cell_type": "code",
      "execution_count": null,
      "metadata": {
        "id": "5SrSX9wzH4ce"
      },
      "outputs": [],
      "source": [
        "def calculadora(num1, num2, operacao):\n",
        "  if (operacao == 1):\n",
        "    return num1 + num2\n",
        "  elif (operacao == 2):\n",
        "    return num1 - num2\n",
        "  elif (operacao == 3):\n",
        "    return num1 * num2\n",
        "  elif (operacao == 4):\n",
        "    return num1 / num2\n",
        "\n",
        "  else:\n",
        "    return 0\n",
        "\n",
        "  executar = True\n",
        "\n",
        "  while (executar == True):\n",
        "    print(\"Qual a operação que deseja realizaar?\")\n",
        "    print(\"1: soma 2: subtração 3: multiplicação 4: divisão 0: sair\")\n",
        "    operacao = int(input())\n",
        "    if (operacao < 0) or (operacao > 4):\n",
        "      print(\"Essa opção não existe\")\n",
        "    elif(operacao== 0):\n",
        "      executar = False\n",
        "    else:\n",
        "      print(\"Insira o primeiro número:\")\n",
        "      num1 = int(input())\n",
        "      print(\"Insira o segundo número:\")\n",
        "      num2 = int(input())\n",
        "      resultado = calculadora(num1, num2, operacao)\n",
        "      print(\"O resultado é:\", resultado)\n",
        ""
      ]
    }
  ]
}