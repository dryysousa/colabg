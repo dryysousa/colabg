{
  "nbformat": 4,
  "nbformat_minor": 0,
  "metadata": {
    "colab": {
      "provenance": [],
      "authorship_tag": "ABX9TyP+8SdBOSl+/cT0t7/6SXuY",
      "include_colab_link": true
    },
    "kernelspec": {
      "name": "python3",
      "display_name": "Python 3"
    },
    "language_info": {
      "name": "python"
    }
  },
  "cells": [
    {
      "cell_type": "markdown",
      "metadata": {
        "id": "view-in-github",
        "colab_type": "text"
      },
      "source": [
        "<a href=\"https://colab.research.google.com/github/dryysousa/colabg/blob/main/Untitled2.ipynb\" target=\"_parent\"><img src=\"https://colab.research.google.com/assets/colab-badge.svg\" alt=\"Open In Colab\"/></a>"
      ]
    },
    {
      "cell_type": "code",
      "execution_count": 2,
      "metadata": {
        "colab": {
          "base_uri": "https://localhost:8080/",
          "height": 106
        },
        "id": "pymDreJQ4pOr",
        "outputId": "f9c47232-49f0-45f3-bed0-82b0b8f61ce3"
      },
      "outputs": [
        {
          "output_type": "error",
          "ename": "IndentationError",
          "evalue": "unindent does not match any outer indentation level (<tokenize>, line 4)",
          "traceback": [
            "\u001b[0;36m  File \u001b[0;32m\"<tokenize>\"\u001b[0;36m, line \u001b[0;32m4\u001b[0m\n\u001b[0;31m    else:\u001b[0m\n\u001b[0m    ^\u001b[0m\n\u001b[0;31mIndentationError\u001b[0m\u001b[0;31m:\u001b[0m unindent does not match any outer indentation level\n"
          ]
        }
      ],
      "source": [
        "for i in rangel(1,21):\n",
        "   if(i == 13):\n",
        "     continue\n",
        "  else:\n",
        "    print(i)\n",
        "\n",
        "\n",
        "    contador = 1\n",
        "    while (contador <= 20):\n",
        "      if(contador == 13):\n",
        "        contador = contador + 1\n",
        "        continue\n",
        "      else:\n",
        "        print(contador)\n",
        "        contador = contador + 1\n",
        "\n",
        "\n",
        "  for i in range(20, 0, -1):\n",
        "    if(i == 13):\n",
        "      continue\n",
        "      else:\n",
        "        print(i)\n"
      ]
    }
  ]
}