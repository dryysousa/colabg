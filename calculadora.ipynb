{
  "nbformat": 4,
  "nbformat_minor": 0,
  "metadata": {
    "colab": {
      "provenance": [],
      "authorship_tag": "ABX9TyNMDzSpE5EEnqbbSiLgD+oH",
      "include_colab_link": true
    },
    "kernelspec": {
      "name": "python3",
      "display_name": "Python 3"
    },
    "language_info": {
      "name": "python"
    }
  },
  "cells": [
    {
      "cell_type": "markdown",
      "metadata": {
        "id": "view-in-github",
        "colab_type": "text"
      },
      "source": [
        "<a href=\"https://colab.research.google.com/github/dryysousa/colabg/blob/main/calculadora.ipynb\" target=\"_parent\"><img src=\"https://colab.research.google.com/assets/colab-badge.svg\" alt=\"Open In Colab\"/></a>"
      ]
    },
    {
      "cell_type": "code",
      "execution_count": null,
      "metadata": {
        "id": "PghpzwmcBh-6"
      },
      "outputs": [],
      "source": [
        "def calculadora(num1, num2, operacao):\n",
        "  if (operacao == 1):\n",
        "    return num1 + num2\n",
        "  elif (operacao == 2):\n",
        "    return num1 - num2\n",
        "  elif (operacao == 3):\n",
        "    return num1 * num2\n",
        "  elif (operacao == 4):\n",
        "    return num1 / num2\n",
        "  else:\n",
        "    return 0\n",
        "\n",
        "  resultado = calculadora(4, 7, 1)\n",
        "  print(resultado)"
      ]
    }
  ]
}