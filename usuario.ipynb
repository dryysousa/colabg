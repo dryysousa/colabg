{
  "nbformat": 4,
  "nbformat_minor": 0,
  "metadata": {
    "colab": {
      "provenance": [],
      "authorship_tag": "ABX9TyNjnkFE6FVJeusxsw44qR/4",
      "include_colab_link": true
    },
    "kernelspec": {
      "name": "python3",
      "display_name": "Python 3"
    },
    "language_info": {
      "name": "python"
    }
  },
  "cells": [
    {
      "cell_type": "markdown",
      "metadata": {
        "id": "view-in-github",
        "colab_type": "text"
      },
      "source": [
        "<a href=\"https://colab.research.google.com/github/dryysousa/colabg/blob/main/usuario.ipynb\" target=\"_parent\"><img src=\"https://colab.research.google.com/assets/colab-badge.svg\" alt=\"Open In Colab\"/></a>"
      ]
    },
    {
      "cell_type": "code",
      "execution_count": null,
      "metadata": {
        "id": "glA4Q5ygNsCF"
      },
      "outputs": [],
      "source": [
        "print(\"Digite seu nome:\")\n",
        "nome = input()\n",
        "\n",
        "executar = True\n",
        "\n",
        "while(executar == True) :\n",
        "    print(\"Digite o ano do seu nascimento\")\n",
        "    try:\n",
        "      ano = int(input())\n",
        "      if(ano < 1922) or (ano > 2021):\n",
        "        print(\"o ano precisa ser entre 1922 e 2021\")\n",
        "      else:\n",
        "        idade = 2024 - ano\n",
        "        print(\"O usuário\", nome, \"Completará\", idade, \"anos de idade em 2024\")\n",
        "        executar = False\n",
        "    except:\n",
        "      print(\"Os anos precisam ser preenchidos apenas com números\")\n"
      ]
    }
  ]
}